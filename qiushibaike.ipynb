{
 "metadata": {
  "name": "",
  "signature": "sha256:767be018c9ec685267c1b3ae0d50f2f4ea2134860190e7625a30a0d44625a204"
 },
 "nbformat": 3,
 "nbformat_minor": 0,
 "worksheets": [
  {
   "cells": [
    {
     "cell_type": "code",
     "collapsed": false,
     "input": [
      "binfo = {'name':'jay','age':20,'python':'haha'}"
     ],
     "language": "python",
     "metadata": {},
     "outputs": [],
     "prompt_number": 1
    },
    {
     "cell_type": "code",
     "collapsed": false,
     "input": [
      "print binfo.pop('name')#pop\u65b9\u6cd5\u5220\u9664\u952e\uff0c\u5e76\u4e14\u8fd4\u56de\u952e\u5bf9\u5e94\u7684\u503c\n",
      "\n",
      "print binfo##\u8f93\u51fa\u7ed3\u679c\uff1a{'python': 'haha', 'age': 20}\n",
      "\n",
      "del binfo['python']##\u5185\u7f6e\u65b9\u6cd5\u5220\u9664\u5143\u7d20\n",
      "\n",
      "print binfo##\u8f93\u51fa\u7ed3\u679c\uff1a{'age': 20}"
     ],
     "language": "python",
     "metadata": {},
     "outputs": [
      {
       "output_type": "stream",
       "stream": "stdout",
       "text": [
        "jay\n",
        "{'python': 'haha', 'age': 20}\n",
        "{'age': 20}\n"
       ]
      }
     ],
     "prompt_number": 2
    },
    {
     "cell_type": "code",
     "collapsed": false,
     "input": [],
     "language": "python",
     "metadata": {},
     "outputs": []
    }
   ],
   "metadata": {}
  }
 ]
}