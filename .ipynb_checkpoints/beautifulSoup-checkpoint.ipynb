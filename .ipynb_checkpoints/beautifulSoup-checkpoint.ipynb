{
 "metadata": {
  "name": "",
  "signature": "sha256:b42119b5bed238dba8202ee078008604ecb2701df2ab1366aa5d74da504011ad"
 },
 "nbformat": 3,
 "nbformat_minor": 0,
 "worksheets": [
  {
   "cells": [
    {
     "cell_type": "code",
     "collapsed": false,
     "input": [
      "from bs4 import BeautifulSoup"
     ],
     "language": "python",
     "metadata": {},
     "outputs": []
    }
   ],
   "metadata": {}
  }
 ]
}