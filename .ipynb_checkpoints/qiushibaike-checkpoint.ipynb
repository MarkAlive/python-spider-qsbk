{
 "metadata": {
  "name": "",
  "signature": "sha256:d3518ed20ae008109a961dbf2d7f83f7fa135179008ae8f005d22bd877e835ee"
 },
 "nbformat": 3,
 "nbformat_minor": 0,
 "worksheets": []
}